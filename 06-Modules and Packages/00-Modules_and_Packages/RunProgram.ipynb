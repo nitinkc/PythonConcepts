{
 "cells": [
  {
   "cell_type": "code",
   "execution_count": 16,
   "id": "16cfab39",
   "metadata": {},
   "outputs": [
    {
     "name": "stdout",
     "output_type": "stream",
     "text": [
      "Report Main : From main package\n"
     ]
    }
   ],
   "source": [
    "# From script, import the method\n",
    "from MyMainPackage.mainScriptInPackage import report_main\n",
    "report_main()"
   ]
  },
  {
   "cell_type": "code",
   "execution_count": 17,
   "id": "0bf4e2da",
   "metadata": {},
   "outputs": [
    {
     "ename": "NameError",
     "evalue": "name 'report_main1' is not defined",
     "output_type": "error",
     "traceback": [
      "\u001b[0;31m---------------------------------------------------------------------------\u001b[0m",
      "\u001b[0;31mNameError\u001b[0m                                 Traceback (most recent call last)",
      "Cell \u001b[0;32mIn[17], line 1\u001b[0m\n\u001b[0;32m----> 1\u001b[0m \u001b[43mreport_main1\u001b[49m()\n",
      "\u001b[0;31mNameError\u001b[0m: name 'report_main1' is not defined"
     ]
    }
   ],
   "source": [
    "report_main1()"
   ]
  },
  {
   "cell_type": "code",
   "execution_count": 18,
   "id": "dedc2a6b",
   "metadata": {},
   "outputs": [
    {
     "ename": "ImportError",
     "evalue": "cannot import name 'report_main1' from 'MyMainPackage.mainScriptInPackage' (/Users/nichaurasia/Programming/PythonConcepts/06-Modules and Packages/00-Modules_and_Packages/MyMainPackage/mainScriptInPackage.py)",
     "output_type": "error",
     "traceback": [
      "\u001b[0;31m---------------------------------------------------------------------------\u001b[0m",
      "\u001b[0;31mImportError\u001b[0m                               Traceback (most recent call last)",
      "Cell \u001b[0;32mIn[18], line 1\u001b[0m\n\u001b[0;32m----> 1\u001b[0m \u001b[38;5;28;01mfrom\u001b[39;00m \u001b[38;5;21;01mMyMainPackage\u001b[39;00m\u001b[38;5;21;01m.\u001b[39;00m\u001b[38;5;21;01mmainScriptInPackage\u001b[39;00m \u001b[38;5;28;01mimport\u001b[39;00m report_main1\n\u001b[1;32m      2\u001b[0m report_main1()\n",
      "\u001b[0;31mImportError\u001b[0m: cannot import name 'report_main1' from 'MyMainPackage.mainScriptInPackage' (/Users/nichaurasia/Programming/PythonConcepts/06-Modules and Packages/00-Modules_and_Packages/MyMainPackage/mainScriptInPackage.py)"
     ]
    }
   ],
   "source": [
    "from MyMainPackage.mainScriptInPackage import report_main1\n",
    "report_main1()"
   ]
  },
  {
   "cell_type": "code",
   "execution_count": 21,
   "id": "1e79eb6f",
   "metadata": {},
   "outputs": [],
   "source": [
    "from MyMainPackage.SubPackage import subscriptInsideSubpackage"
   ]
  },
  {
   "cell_type": "code",
   "execution_count": 22,
   "id": "67f60dac",
   "metadata": {},
   "outputs": [
    {
     "name": "stdout",
     "output_type": "stream",
     "text": [
      "Function inside mysubscrip\n"
     ]
    }
   ],
   "source": [
    "subscriptInsideSubpackage.sub_report()"
   ]
  },
  {
   "cell_type": "code",
   "execution_count": 23,
   "id": "69baebb4",
   "metadata": {},
   "outputs": [
    {
     "ename": "NameError",
     "evalue": "name 'sub_report' is not defined",
     "output_type": "error",
     "traceback": [
      "\u001b[0;31m---------------------------------------------------------------------------\u001b[0m",
      "\u001b[0;31mNameError\u001b[0m                                 Traceback (most recent call last)",
      "Cell \u001b[0;32mIn[23], line 1\u001b[0m\n\u001b[0;32m----> 1\u001b[0m \u001b[43msub_report\u001b[49m()\n",
      "\u001b[0;31mNameError\u001b[0m: name 'sub_report' is not defined"
     ]
    }
   ],
   "source": [
    "sub_report()"
   ]
  },
  {
   "cell_type": "code",
   "execution_count": null,
   "id": "7ac23ad4",
   "metadata": {},
   "outputs": [],
   "source": []
  }
 ],
 "metadata": {
  "kernelspec": {
   "display_name": "Python 3 (ipykernel)",
   "language": "python",
   "name": "python3"
  },
  "language_info": {
   "codemirror_mode": {
    "name": "ipython",
    "version": 3
   },
   "file_extension": ".py",
   "mimetype": "text/x-python",
   "name": "python",
   "nbconvert_exporter": "python",
   "pygments_lexer": "ipython3",
   "version": "3.10.9"
  }
 },
 "nbformat": 4,
 "nbformat_minor": 5
}
