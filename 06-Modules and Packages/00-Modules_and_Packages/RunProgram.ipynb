{
 "cells": [
  {
   "cell_type": "code",
   "execution_count": 1,
   "id": "16cfab39",
   "metadata": {},
   "outputs": [
    {
     "name": "stdout",
     "output_type": "stream",
     "text": [
      "Report Main : From main package\n"
     ]
    }
   ],
   "source": [
    "# From script, import the method\n",
    "from myMainPackage.moduleInPackage import report_main\n",
    "report_main()"
   ]
  },
  {
   "cell_type": "code",
   "execution_count": 2,
   "id": "dedc2a6b",
   "metadata": {},
   "outputs": [
    {
     "name": "stdout",
     "output_type": "stream",
     "text": [
      "Report Main 1 : From main package\n"
     ]
    }
   ],
   "source": [
    "from myMainPackage.moduleInPackage import report_main1\n",
    "report_main1()"
   ]
  },
  {
   "cell_type": "code",
   "execution_count": 3,
   "id": "50f3dbe5",
   "metadata": {},
   "outputs": [
    {
     "name": "stdout",
     "output_type": "stream",
     "text": [
      "Report Main 2 : From main package\n"
     ]
    }
   ],
   "source": [
    "from myMainPackage import moduleInPackage \n",
    "moduleInPackage.report_main2()"
   ]
  },
  {
   "cell_type": "code",
   "execution_count": 5,
   "id": "1e79eb6f",
   "metadata": {},
   "outputs": [
    {
     "name": "stdout",
     "output_type": "stream",
     "text": [
      "Function inside subModuleInSubpackage\n"
     ]
    }
   ],
   "source": [
    "from myMainPackage.subPackage import subModuleInSubpackage as ssinsp\n",
    "ssinsp.sub_report()"
   ]
  },
  {
   "cell_type": "code",
   "execution_count": null,
   "id": "22376805",
   "metadata": {},
   "outputs": [],
   "source": []
  }
 ],
 "metadata": {
  "kernelspec": {
   "display_name": "Python 3 (ipykernel)",
   "language": "python",
   "name": "python3"
  },
  "language_info": {
   "codemirror_mode": {
    "name": "ipython",
    "version": 3
   },
   "file_extension": ".py",
   "mimetype": "text/x-python",
   "name": "python",
   "nbconvert_exporter": "python",
   "pygments_lexer": "ipython3",
   "version": "3.11.3"
  }
 },
 "nbformat": 4,
 "nbformat_minor": 5
}
