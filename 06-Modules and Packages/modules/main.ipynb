{
 "cells": [
  {
   "cell_type": "code",
   "execution_count": 2,
   "id": "ae624f11",
   "metadata": {},
   "outputs": [
    {
     "ename": "AttributeError",
     "evalue": "module 'testPackage' has no attribute 'subTestPackage1'",
     "output_type": "error",
     "traceback": [
      "\u001b[0;31m---------------------------------------------------------------------------\u001b[0m",
      "\u001b[0;31mAttributeError\u001b[0m                            Traceback (most recent call last)",
      "Cell \u001b[0;32mIn[2], line 5\u001b[0m\n\u001b[1;32m      1\u001b[0m \u001b[38;5;28;01mimport\u001b[39;00m \u001b[38;5;21;01mtestPackage\u001b[39;00m \u001b[38;5;28;01mas\u001b[39;00m \u001b[38;5;21;01mtp\u001b[39;00m\n\u001b[1;32m      3\u001b[0m \u001b[38;5;66;03m#from testPackage.subTestPackage1 import add,sub\u001b[39;00m\n\u001b[0;32m----> 5\u001b[0m x \u001b[38;5;241m=\u001b[39m \u001b[43mtp\u001b[49m\u001b[38;5;241;43m.\u001b[39;49m\u001b[43msubTestPackage1\u001b[49m\u001b[38;5;241m.\u001b[39msub\u001b[38;5;241m.\u001b[39msubtract(\u001b[38;5;241m3\u001b[39m,\u001b[38;5;241m4\u001b[39m)\n\u001b[1;32m      6\u001b[0m \u001b[38;5;28mprint\u001b[39m(x)\n",
      "\u001b[0;31mAttributeError\u001b[0m: module 'testPackage' has no attribute 'subTestPackage1'"
     ]
    }
   ],
   "source": [
    "import testPackage as tp\n",
    "\n",
    "#from testPackage.subTestPackage1 import add,sub\n",
    "\n",
    "x = tp.subTestPackage1.sub.subtract(3,4)\n",
    "print(x)"
   ]
  },
  {
   "cell_type": "code",
   "execution_count": 3,
   "id": "7376f837",
   "metadata": {},
   "outputs": [
    {
     "ename": "AttributeError",
     "evalue": "module 'testPackage' has no attribute 'subTestPackage1'",
     "output_type": "error",
     "traceback": [
      "\u001b[0;31m---------------------------------------------------------------------------\u001b[0m",
      "\u001b[0;31mAttributeError\u001b[0m                            Traceback (most recent call last)",
      "Cell \u001b[0;32mIn[3], line 1\u001b[0m\n\u001b[0;32m----> 1\u001b[0m \u001b[38;5;28mprint\u001b[39m(\u001b[43mtp\u001b[49m\u001b[38;5;241;43m.\u001b[39;49m\u001b[43msubTestPackage1\u001b[49m\u001b[38;5;241m.\u001b[39madd\u001b[38;5;241m.\u001b[39madd(\u001b[38;5;241m2\u001b[39m,\u001b[38;5;241m6\u001b[39m))\n",
      "\u001b[0;31mAttributeError\u001b[0m: module 'testPackage' has no attribute 'subTestPackage1'"
     ]
    }
   ],
   "source": [
    "print(tp.subTestPackage1.add.add(2,6))"
   ]
  },
  {
   "cell_type": "code",
   "execution_count": null,
   "id": "583a1695",
   "metadata": {},
   "outputs": [],
   "source": [
    "print(tp.subTestPackage2.multiply.mult(2,6))"
   ]
  },
  {
   "cell_type": "code",
   "execution_count": null,
   "id": "d5530e1d",
   "metadata": {},
   "outputs": [],
   "source": [
    "from testPackage.subTestPackage1 import add,sub"
   ]
  },
  {
   "cell_type": "code",
   "execution_count": null,
   "id": "364e068c",
   "metadata": {},
   "outputs": [],
   "source": [
    "sub.subtract(3,4)"
   ]
  },
  {
   "cell_type": "code",
   "execution_count": 1,
   "id": "54e6139f",
   "metadata": {},
   "outputs": [
    {
     "ename": "NameError",
     "evalue": "name 'add' is not defined",
     "output_type": "error",
     "traceback": [
      "\u001b[0;31m---------------------------------------------------------------------------\u001b[0m",
      "\u001b[0;31mNameError\u001b[0m                                 Traceback (most recent call last)",
      "Cell \u001b[0;32mIn[1], line 1\u001b[0m\n\u001b[0;32m----> 1\u001b[0m \u001b[43madd\u001b[49m\u001b[38;5;241m.\u001b[39madd(\u001b[38;5;241m1\u001b[39m,\u001b[38;5;241m2\u001b[39m)\n",
      "\u001b[0;31mNameError\u001b[0m: name 'add' is not defined"
     ]
    }
   ],
   "source": [
    "add.add(1,2)"
   ]
  },
  {
   "cell_type": "code",
   "execution_count": null,
   "id": "b2e062bd",
   "metadata": {},
   "outputs": [],
   "source": []
  }
 ],
 "metadata": {
  "kernelspec": {
   "display_name": "Python 3 (ipykernel)",
   "language": "python",
   "name": "python3"
  },
  "language_info": {
   "codemirror_mode": {
    "name": "ipython",
    "version": 3
   },
   "file_extension": ".py",
   "mimetype": "text/x-python",
   "name": "python",
   "nbconvert_exporter": "python",
   "pygments_lexer": "ipython3",
   "version": "3.10.9"
  }
 },
 "nbformat": 4,
 "nbformat_minor": 5
}
