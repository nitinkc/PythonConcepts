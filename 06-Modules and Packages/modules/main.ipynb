{
 "cells": [
  {
   "cell_type": "code",
   "execution_count": 1,
   "id": "7376f837",
   "metadata": {},
   "outputs": [
    {
     "ename": "AttributeError",
     "evalue": "module 'testPackage' has no attribute 'subTestPackage1'",
     "output_type": "error",
     "traceback": [
      "\u001b[0;31m---------------------------------------------------------------------------\u001b[0m",
      "\u001b[0;31mAttributeError\u001b[0m                            Traceback (most recent call last)",
      "Cell \u001b[0;32mIn[1], line 2\u001b[0m\n\u001b[1;32m      1\u001b[0m \u001b[38;5;28;01mimport\u001b[39;00m \u001b[38;5;21;01mtestPackage\u001b[39;00m \u001b[38;5;28;01mas\u001b[39;00m \u001b[38;5;21;01mtp\u001b[39;00m\n\u001b[0;32m----> 2\u001b[0m \u001b[38;5;28mprint\u001b[39m(tp\u001b[38;5;241m.\u001b[39msubTestPackage1\u001b[38;5;241m.\u001b[39maddModule\u001b[38;5;241m.\u001b[39maddition(\u001b[38;5;241m2\u001b[39m,\u001b[38;5;241m6\u001b[39m))\n\u001b[1;32m      3\u001b[0m \u001b[38;5;28mprint\u001b[39m(tp\u001b[38;5;241m.\u001b[39msubTestPackage2\u001b[38;5;241m.\u001b[39mmultiplyModule\u001b[38;5;241m.\u001b[39mmult(\u001b[38;5;241m2\u001b[39m,\u001b[38;5;241m6\u001b[39m))\n",
      "\u001b[0;31mAttributeError\u001b[0m: module 'testPackage' has no attribute 'subTestPackage1'"
     ]
    }
   ],
   "source": [
    "import testPackage as tp\n",
    "print(tp.subTestPackage1.addModule.addition(2,6))\n",
    "print(tp.subTestPackage2.multiplyModule.mult(2,6))"
   ]
  },
  {
   "cell_type": "code",
   "execution_count": null,
   "id": "ae624f11",
   "metadata": {},
   "outputs": [],
   "source": [
    "from testPackage.subTestPackage1 import addModule,subModule\n",
    "\n",
    "x = subModule.subtract(3,4)\n",
    "print(x)"
   ]
  },
  {
   "cell_type": "code",
   "execution_count": null,
   "id": "d5530e1d",
   "metadata": {},
   "outputs": [],
   "source": []
  },
  {
   "cell_type": "code",
   "execution_count": null,
   "id": "44b0d9d2",
   "metadata": {},
   "outputs": [],
   "source": []
  }
 ],
 "metadata": {
  "kernelspec": {
   "display_name": "Python 3 (ipykernel)",
   "language": "python",
   "name": "python3"
  },
  "language_info": {
   "codemirror_mode": {
    "name": "ipython",
    "version": 3
   },
   "file_extension": ".py",
   "mimetype": "text/x-python",
   "name": "python",
   "nbconvert_exporter": "python",
   "pygments_lexer": "ipython3",
   "version": "3.11.3"
  }
 },
 "nbformat": 4,
 "nbformat_minor": 5
}
